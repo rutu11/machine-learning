{
 "cells": [
  {
   "cell_type": "code",
   "execution_count": 92,
   "metadata": {},
   "outputs": [
    {
     "data": {
      "text/plain": [
       "'C:\\\\spark\\\\spark-3.0.1-bin-hadoop2.7'"
      ]
     },
     "execution_count": 92,
     "metadata": {},
     "output_type": "execute_result"
    }
   ],
   "source": [
    "import findspark\n",
    "findspark.init()\n",
    "findspark.find()\n",
    "import pyspark\n",
    "findspark.find()"
   ]
  },
  {
   "cell_type": "code",
   "execution_count": 93,
   "metadata": {},
   "outputs": [],
   "source": [
    "from pyspark.sql import SparkSession\n",
    "spark = SparkSession.builder.appName(\"Customers\").getOrCreate()"
   ]
  },
  {
   "cell_type": "code",
   "execution_count": 94,
   "metadata": {},
   "outputs": [],
   "source": [
    "from pyspark.ml.regression import LinearRegression"
   ]
  },
  {
   "cell_type": "code",
   "execution_count": 95,
   "metadata": {},
   "outputs": [],
   "source": [
    "dataset = spark.read.csv(\"Ecommerce_Customers.csv\", inferSchema=True, header=True)"
   ]
  },
  {
   "cell_type": "code",
   "execution_count": 96,
   "metadata": {},
   "outputs": [
    {
     "data": {
      "text/plain": [
       "DataFrame[Email: string, Address: string, Avg Session Length: double, Time on App: double, Time on Website: double, Length of Membership: double, Yearly Amount Spent: double]"
      ]
     },
     "execution_count": 96,
     "metadata": {},
     "output_type": "execute_result"
    }
   ],
   "source": [
    "dataset #return type of data"
   ]
  },
  {
   "cell_type": "code",
   "execution_count": 97,
   "metadata": {},
   "outputs": [
    {
     "name": "stdout",
     "output_type": "stream",
     "text": [
      "+--------------------+--------------------+------------------+-----------+---------------+--------------------+-------------------+\n",
      "|               Email|             Address|Avg Session Length|Time on App|Time on Website|Length of Membership|Yearly Amount Spent|\n",
      "+--------------------+--------------------+------------------+-----------+---------------+--------------------+-------------------+\n",
      "|mstephenson@ferna...|835 Frank TunnelW...|       34.49726773|12.65565115|    39.57766802|         4.082620633|         587.951054|\n",
      "|   hduke@hotmail.com|4547 Archer Commo...|       31.92627203|11.10946073|    37.26895887|         2.664034182|        392.2049334|\n",
      "|    pallen@yahoo.com|24645 Valerie Uni...|       33.00091476|11.33027806|    37.11059744|         4.104543202|        487.5475049|\n",
      "|riverarebecca@gma...|1414 David Throug...|       34.30555663|13.71751367|    36.72128268|         3.120178783|         581.852344|\n",
      "|mstephens@davidso...|14023 Rodriguez P...|       33.33067252|12.79518855|     37.5366533|         4.446308318|         599.406092|\n",
      "+--------------------+--------------------+------------------+-----------+---------------+--------------------+-------------------+\n",
      "only showing top 5 rows\n",
      "\n"
     ]
    }
   ],
   "source": [
    "#dataset.show()\n",
    "dataset.show(5)"
   ]
  },
  {
   "cell_type": "code",
   "execution_count": 98,
   "metadata": {},
   "outputs": [
    {
     "name": "stdout",
     "output_type": "stream",
     "text": [
      "root\n",
      " |-- Email: string (nullable = true)\n",
      " |-- Address: string (nullable = true)\n",
      " |-- Avg Session Length: double (nullable = true)\n",
      " |-- Time on App: double (nullable = true)\n",
      " |-- Time on Website: double (nullable = true)\n",
      " |-- Length of Membership: double (nullable = true)\n",
      " |-- Yearly Amount Spent: double (nullable = true)\n",
      "\n"
     ]
    }
   ],
   "source": [
    "dataset.printSchema()"
   ]
  },
  {
   "cell_type": "markdown",
   "metadata": {},
   "source": [
    "sklearn \n",
    "x1 x2 x3 x4 (independently but together features)   Y1(dependent)-->model --> predict\n",
    "\n",
    "PySpark\n",
    "group independent features\n",
    "[x1, x2, x3, x4]  Y1(dependent)-->model --> predict"
   ]
  },
  {
   "cell_type": "code",
   "execution_count": 99,
   "metadata": {},
   "outputs": [],
   "source": [
    "from pyspark.ml.linalg import Vectors\n",
    "from pyspark.ml.feature import VectorAssembler  #A feature transformer that merges multiple columns into a vector column\n",
    "#group of all the vectors"
   ]
  },
  {
   "cell_type": "code",
   "execution_count": 100,
   "metadata": {},
   "outputs": [
    {
     "name": "stdout",
     "output_type": "stream",
     "text": [
      "root\n",
      " |-- Email: string (nullable = true)\n",
      " |-- Address: string (nullable = true)\n",
      " |-- Avg Session Length: double (nullable = true)\n",
      " |-- Time on App: double (nullable = true)\n",
      " |-- Time on Website: double (nullable = true)\n",
      " |-- Length of Membership: double (nullable = true)\n",
      " |-- Yearly Amount Spent: double (nullable = true)\n",
      "\n"
     ]
    }
   ],
   "source": [
    "dataset.printSchema()"
   ]
  },
  {
   "cell_type": "code",
   "execution_count": 101,
   "metadata": {},
   "outputs": [
    {
     "data": {
      "text/html": [
       "<div>\n",
       "<style scoped>\n",
       "    .dataframe tbody tr th:only-of-type {\n",
       "        vertical-align: middle;\n",
       "    }\n",
       "\n",
       "    .dataframe tbody tr th {\n",
       "        vertical-align: top;\n",
       "    }\n",
       "\n",
       "    .dataframe thead th {\n",
       "        text-align: right;\n",
       "    }\n",
       "</style>\n",
       "<table border=\"1\" class=\"dataframe\">\n",
       "  <thead>\n",
       "    <tr style=\"text-align: right;\">\n",
       "      <th></th>\n",
       "      <th>0</th>\n",
       "      <th>1</th>\n",
       "      <th>2</th>\n",
       "      <th>3</th>\n",
       "      <th>4</th>\n",
       "    </tr>\n",
       "  </thead>\n",
       "  <tbody>\n",
       "    <tr>\n",
       "      <th>summary</th>\n",
       "      <td>count</td>\n",
       "      <td>mean</td>\n",
       "      <td>stddev</td>\n",
       "      <td>min</td>\n",
       "      <td>max</td>\n",
       "    </tr>\n",
       "    <tr>\n",
       "      <th>Email</th>\n",
       "      <td>500</td>\n",
       "      <td>None</td>\n",
       "      <td>None</td>\n",
       "      <td>aaron04@yahoo.com</td>\n",
       "      <td>zscott@wright.com</td>\n",
       "    </tr>\n",
       "    <tr>\n",
       "      <th>Address</th>\n",
       "      <td>500</td>\n",
       "      <td>None</td>\n",
       "      <td>None</td>\n",
       "      <td>0001 Mack MillNorth Jennifer, NE 42021-5936</td>\n",
       "      <td>Unit 7502 Box 8345DPO AE 53747</td>\n",
       "    </tr>\n",
       "    <tr>\n",
       "      <th>Avg Session Length</th>\n",
       "      <td>500</td>\n",
       "      <td>33.05319351824</td>\n",
       "      <td>0.9925631111602911</td>\n",
       "      <td>29.53242897</td>\n",
       "      <td>36.13966249</td>\n",
       "    </tr>\n",
       "    <tr>\n",
       "      <th>Time on App</th>\n",
       "      <td>500</td>\n",
       "      <td>12.052487936928012</td>\n",
       "      <td>0.9942156084624618</td>\n",
       "      <td>8.508152176</td>\n",
       "      <td>15.12699429</td>\n",
       "    </tr>\n",
       "    <tr>\n",
       "      <th>Time on Website</th>\n",
       "      <td>500</td>\n",
       "      <td>37.060445421080004</td>\n",
       "      <td>1.0104889068105993</td>\n",
       "      <td>33.91384725</td>\n",
       "      <td>40.00518164</td>\n",
       "    </tr>\n",
       "    <tr>\n",
       "      <th>Length of Membership</th>\n",
       "      <td>500</td>\n",
       "      <td>3.5334615559300007</td>\n",
       "      <td>0.9992775024367542</td>\n",
       "      <td>0.26990109</td>\n",
       "      <td>6.922689335</td>\n",
       "    </tr>\n",
       "    <tr>\n",
       "      <th>Yearly Amount Spent</th>\n",
       "      <td>500</td>\n",
       "      <td>499.3140382608002</td>\n",
       "      <td>79.31478155115914</td>\n",
       "      <td>256.6705823</td>\n",
       "      <td>765.5184619</td>\n",
       "    </tr>\n",
       "  </tbody>\n",
       "</table>\n",
       "</div>"
      ],
      "text/plain": [
       "                          0                   1                   2  \\\n",
       "summary               count                mean              stddev   \n",
       "Email                   500                None                None   \n",
       "Address                 500                None                None   \n",
       "Avg Session Length      500      33.05319351824  0.9925631111602911   \n",
       "Time on App             500  12.052487936928012  0.9942156084624618   \n",
       "Time on Website         500  37.060445421080004  1.0104889068105993   \n",
       "Length of Membership    500  3.5334615559300007  0.9992775024367542   \n",
       "Yearly Amount Spent     500   499.3140382608002   79.31478155115914   \n",
       "\n",
       "                                                                3  \\\n",
       "summary                                                       min   \n",
       "Email                                           aaron04@yahoo.com   \n",
       "Address               0001 Mack MillNorth Jennifer, NE 42021-5936   \n",
       "Avg Session Length                                    29.53242897   \n",
       "Time on App                                           8.508152176   \n",
       "Time on Website                                       33.91384725   \n",
       "Length of Membership                                   0.26990109   \n",
       "Yearly Amount Spent                                   256.6705823   \n",
       "\n",
       "                                                   4  \n",
       "summary                                          max  \n",
       "Email                              zscott@wright.com  \n",
       "Address               Unit 7502 Box 8345DPO AE 53747  \n",
       "Avg Session Length                       36.13966249  \n",
       "Time on App                              15.12699429  \n",
       "Time on Website                          40.00518164  \n",
       "Length of Membership                     6.922689335  \n",
       "Yearly Amount Spent                      765.5184619  "
      ]
     },
     "execution_count": 101,
     "metadata": {},
     "output_type": "execute_result"
    }
   ],
   "source": [
    "dataset.describe().toPandas().transpose()"
   ]
  },
  {
   "cell_type": "code",
   "execution_count": 102,
   "metadata": {},
   "outputs": [],
   "source": [
    "featureAssembler = VectorAssembler(inputCols = [\"Avg Session Length\",\"Time on App\",\"Time on Website\",\"Length of Membership\"], outputCol=\"Independent features\")"
   ]
  },
  {
   "cell_type": "code",
   "execution_count": 103,
   "metadata": {},
   "outputs": [],
   "source": [
    "#Transform the dataset\n",
    "output_data = featureAssembler.transform(dataset)"
   ]
  },
  {
   "cell_type": "code",
   "execution_count": 104,
   "metadata": {},
   "outputs": [
    {
     "name": "stdout",
     "output_type": "stream",
     "text": [
      "+--------------------+--------------------+------------------+-----------+---------------+--------------------+-------------------+--------------------+\n",
      "|               Email|             Address|Avg Session Length|Time on App|Time on Website|Length of Membership|Yearly Amount Spent|Independent features|\n",
      "+--------------------+--------------------+------------------+-----------+---------------+--------------------+-------------------+--------------------+\n",
      "|mstephenson@ferna...|835 Frank TunnelW...|       34.49726773|12.65565115|    39.57766802|         4.082620633|         587.951054|[34.49726773,12.6...|\n",
      "+--------------------+--------------------+------------------+-----------+---------------+--------------------+-------------------+--------------------+\n",
      "only showing top 1 row\n",
      "\n"
     ]
    }
   ],
   "source": [
    "output_data.show(1)"
   ]
  },
  {
   "cell_type": "code",
   "execution_count": 105,
   "metadata": {},
   "outputs": [
    {
     "data": {
      "text/plain": [
       "DataFrame[Independent features: vector]"
      ]
     },
     "execution_count": 105,
     "metadata": {},
     "output_type": "execute_result"
    }
   ],
   "source": [
    "output_data.select(\"Independent features\")"
   ]
  },
  {
   "cell_type": "code",
   "execution_count": 106,
   "metadata": {},
   "outputs": [
    {
     "name": "stdout",
     "output_type": "stream",
     "text": [
      "+--------------------+\n",
      "|Independent features|\n",
      "+--------------------+\n",
      "|[34.49726773,12.6...|\n",
      "|[31.92627203,11.1...|\n",
      "|[33.00091476,11.3...|\n",
      "|[34.30555663,13.7...|\n",
      "|[33.33067252,12.7...|\n",
      "|[33.87103788,12.0...|\n",
      "|[32.0215955,11.36...|\n",
      "|[32.73914294,12.3...|\n",
      "|[33.9877729,13.38...|\n",
      "|[31.93654862,11.8...|\n",
      "|[33.99257277,13.3...|\n",
      "|[33.87936082,11.5...|\n",
      "|[29.53242897,10.9...|\n",
      "|[33.19033404,12.9...|\n",
      "|[32.38797585,13.1...|\n",
      "|[30.73772037,12.6...|\n",
      "|[32.1253869,11.73...|\n",
      "|[32.33889932,12.0...|\n",
      "|[32.18781205,14.7...|\n",
      "|[32.61785606,13.9...|\n",
      "+--------------------+\n",
      "only showing top 20 rows\n",
      "\n"
     ]
    }
   ],
   "source": [
    "output_data.select(\"Independent features\").show()"
   ]
  },
  {
   "cell_type": "code",
   "execution_count": 107,
   "metadata": {},
   "outputs": [
    {
     "data": {
      "text/plain": [
       "['Email',\n",
       " 'Address',\n",
       " 'Avg Session Length',\n",
       " 'Time on App',\n",
       " 'Time on Website',\n",
       " 'Length of Membership',\n",
       " 'Yearly Amount Spent',\n",
       " 'Independent features']"
      ]
     },
     "execution_count": 107,
     "metadata": {},
     "output_type": "execute_result"
    }
   ],
   "source": [
    "output_data.columns"
   ]
  },
  {
   "cell_type": "code",
   "execution_count": 108,
   "metadata": {},
   "outputs": [],
   "source": [
    "#final_data = [x1,x2,x3,x4] + Y1\n",
    "\n",
    "final_data = output_data.select(\"Independent features\", \"Yearly Amount Spent\")"
   ]
  },
  {
   "cell_type": "code",
   "execution_count": 109,
   "metadata": {},
   "outputs": [
    {
     "name": "stdout",
     "output_type": "stream",
     "text": [
      "+--------------------+-------------------+\n",
      "|Independent features|Yearly Amount Spent|\n",
      "+--------------------+-------------------+\n",
      "|[34.49726773,12.6...|         587.951054|\n",
      "|[31.92627203,11.1...|        392.2049334|\n",
      "|[33.00091476,11.3...|        487.5475049|\n",
      "|[34.30555663,13.7...|         581.852344|\n",
      "+--------------------+-------------------+\n",
      "only showing top 4 rows\n",
      "\n"
     ]
    }
   ],
   "source": [
    "final_data.show(4)"
   ]
  },
  {
   "cell_type": "code",
   "execution_count": 110,
   "metadata": {},
   "outputs": [],
   "source": [
    "train_data , test_data = final_data.randomSplit([0.75, 0.25])"
   ]
  },
  {
   "cell_type": "code",
   "execution_count": 111,
   "metadata": {},
   "outputs": [
    {
     "name": "stdout",
     "output_type": "stream",
     "text": [
      "+--------------------+-------------------+\n",
      "|Independent features|Yearly Amount Spent|\n",
      "+--------------------+-------------------+\n",
      "|[30.39318454,11.8...|        319.9288698|\n",
      "|[30.4925367,11.56...|        282.4712457|\n",
      "|[30.57436368,11.3...|        442.0644138|\n",
      "|[30.81620065,11.8...|        266.0863409|\n",
      "+--------------------+-------------------+\n",
      "only showing top 4 rows\n",
      "\n"
     ]
    }
   ],
   "source": [
    "train_data.show(4)"
   ]
  },
  {
   "cell_type": "code",
   "execution_count": 112,
   "metadata": {},
   "outputs": [],
   "source": [
    "regressor = LinearRegression(featuresCol = \"Independent features\", labelCol = \"Yearly Amount Spent\")\n",
    "regressor = regressor.fit(train_data)"
   ]
  },
  {
   "cell_type": "markdown",
   "metadata": {},
   "source": [
    "$y = mx +c$, \n",
    "    $m$ - coefficient\n",
    "    $c$ - Intercept"
   ]
  },
  {
   "cell_type": "code",
   "execution_count": 113,
   "metadata": {},
   "outputs": [
    {
     "data": {
      "text/plain": [
       "DenseVector([26.0472, 38.8888, 0.3105, 61.1333])"
      ]
     },
     "execution_count": 113,
     "metadata": {},
     "output_type": "execute_result"
    }
   ],
   "source": [
    "regressor.coefficients #slope"
   ]
  },
  {
   "cell_type": "code",
   "execution_count": 114,
   "metadata": {},
   "outputs": [
    {
     "data": {
      "text/plain": [
       "-1058.1782699126802"
      ]
     },
     "execution_count": 114,
     "metadata": {},
     "output_type": "execute_result"
    }
   ],
   "source": [
    "regressor.intercept"
   ]
  },
  {
   "cell_type": "code",
   "execution_count": 115,
   "metadata": {},
   "outputs": [],
   "source": [
    "predicted_results = regressor.evaluate(test_data)"
   ]
  },
  {
   "cell_type": "code",
   "execution_count": 116,
   "metadata": {},
   "outputs": [
    {
     "name": "stdout",
     "output_type": "stream",
     "text": [
      "+--------------------+-------------------+------------------+\n",
      "|Independent features|Yearly Amount Spent|        prediction|\n",
      "+--------------------+-------------------+------------------+\n",
      "|[29.53242897,10.9...|        408.6403511|396.31784319233907|\n",
      "|[30.73772037,12.6...|        461.7807422|450.39339211255924|\n",
      "|[30.87948434,13.2...|           490.2066|493.24427479135534|\n",
      "|[30.97167564,11.7...|        494.6386098|486.56230689120457|\n",
      "|[31.06621816,11.7...|        448.9332932|460.75477114277624|\n",
      "|[31.12397435,12.3...|        486.9470538|507.44105021967243|\n",
      "|[31.28344748,12.7...|        591.7810894| 568.4000302231439|\n",
      "|[31.30919264,11.9...|        432.7207178| 429.1487376165737|\n",
      "|[31.3123496,11.68...|         463.591418| 443.5823913528493|\n",
      "|[31.5171218,10.74...|        275.9184207|  280.012318485019|\n",
      "|[31.6005122,12.22...|        479.1728515|460.43361481662805|\n",
      "|[31.66104982,11.3...|        416.3583536| 416.6487594161481|\n",
      "|[31.6739155,12.32...|        475.7250679|501.27391371284943|\n",
      "|[31.72165236,11.7...|        347.7769266| 349.5692938292618|\n",
      "|[31.73663569,10.7...|        496.9334463|493.17558594359434|\n",
      "|[31.81642833,14.2...|        501.1224915| 518.8390762505528|\n",
      "|[31.86483255,13.4...|        439.8912805|450.39799462298174|\n",
      "|[31.90485713,12.2...|        473.9498574| 490.4160635213018|\n",
      "|[31.95630056,12.8...|        547.1259317| 564.0179372284431|\n",
      "|[31.96732095,11.4...|        445.7498412|449.12174046780933|\n",
      "+--------------------+-------------------+------------------+\n",
      "only showing top 20 rows\n",
      "\n"
     ]
    }
   ],
   "source": [
    "predicted_results.predictions.show(20)"
   ]
  },
  {
   "cell_type": "code",
   "execution_count": 117,
   "metadata": {},
   "outputs": [
    {
     "name": "stdout",
     "output_type": "stream",
     "text": [
      "Root Mean Squared Error (RMSE) on test data = 9.907177\n",
      "r2 = 0.985580\n"
     ]
    }
   ],
   "source": [
    "print(\"Root Mean Squared Error (RMSE) on test data = %f\"% predicted_results.rootMeanSquaredError)\n",
    "print(\"r2 = %f\"% predicted_results.r2)"
   ]
  },
  {
   "cell_type": "code",
   "execution_count": 118,
   "metadata": {},
   "outputs": [
    {
     "data": {
      "text/plain": [
       "pyspark.sql.dataframe.DataFrame"
      ]
     },
     "execution_count": 118,
     "metadata": {},
     "output_type": "execute_result"
    }
   ],
   "source": [
    "type(predicted_results.predictions.select(\"prediction\"))"
   ]
  },
  {
   "cell_type": "code",
   "execution_count": 122,
   "metadata": {},
   "outputs": [],
   "source": [
    "#Convert DataFrame into Python Pandas List\n",
    "actual = predicted_results.predictions.toPandas()[\"Yearly Amount Spent\"].values.tolist()\n",
    "predicted = predicted_results.predictions.toPandas()['prediction'].values.tolist()"
   ]
  },
  {
   "cell_type": "code",
   "execution_count": 123,
   "metadata": {},
   "outputs": [
    {
     "name": "stdout",
     "output_type": "stream",
     "text": [
      "121 121\n"
     ]
    }
   ],
   "source": [
    "print(len(actual),len(predicted))"
   ]
  },
  {
   "cell_type": "code",
   "execution_count": 124,
   "metadata": {},
   "outputs": [],
   "source": [
    "import matplotlib.pyplot as plt"
   ]
  },
  {
   "cell_type": "code",
   "execution_count": 125,
   "metadata": {},
   "outputs": [
    {
     "data": {
      "image/png": "[encoded data removed]",
      "text/plain": [
       "<Figure size 432x288 with 1 Axes>"
      ]
     },
     "metadata": {
      "needs_background": "light"
     },
     "output_type": "display_data"
    }
   ],
   "source": [
    "plt.plot(actual, color='blue')\n",
    "plt.plot(predicted,color='red')\n",
    "plt.title(\"Actual Vs. Predicted values\")\n",
    "plt.legend([\"blue\", \"red\"])\n",
    "plt.show()"
   ]
  },
  {
   "cell_type": "code",
   "execution_count": null,
   "metadata": {},
   "outputs": [],
   "source": [
    "sc.stop()"
   ]
  }
 ],
 "metadata": {
  "kernelspec": {
   "display_name": "Python 3",
   "language": "python",
   "name": "python3"
  },
  "language_info": {
   "codemirror_mode": {
    "name": "ipython",
    "version": 3
   },
   "file_extension": ".py",
   "mimetype": "text/x-python",
   "name": "python",
   "nbconvert_exporter": "python",
   "pygments_lexer": "ipython3",
   "version": "3.7.1"
  }
 },
 "nbformat": 4,
 "nbformat_minor": 4
}
